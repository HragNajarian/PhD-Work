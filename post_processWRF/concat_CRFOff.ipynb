{
 "cells": [
  {
   "cell_type": "code",
   "execution_count": null,
   "metadata": {},
   "outputs": [],
   "source": [
    "\"\"\" \n",
    "Author: Hrag Najarian\n",
    "Date made: September 9, 2024\n",
    "Purpose: Stitch CRFoff wrfout files\n",
    "\"\"\""
   ]
  },
  {
   "cell_type": "code",
   "execution_count": null,
   "metadata": {},
   "outputs": [],
   "source": [
    "# Run this command on the command line to create a .py script instead of .ipynb\n",
    "\t# jupyter nbconvert concat_CRFOff.ipynb --to python"
   ]
  },
  {
   "cell_type": "code",
   "execution_count": 19,
   "metadata": {},
   "outputs": [],
   "source": [
    "import glob\n",
    "import xarray as xr"
   ]
  },
  {
   "cell_type": "code",
   "execution_count": 22,
   "metadata": {},
   "outputs": [],
   "source": [
    "# Declare parent_dir where all the directories are located \n",
    "# parent_dir = sys.argv[1]\n",
    "parent_dir = '/ourdisk/hpc/radclouds/auto_archive_notyet/tape_2copies/hragnajarian/wrfout.files/10day-2015-12-09-12--12-20-00/CRFoff'\n",
    "timeseries = True\n",
    "# List files\n",
    "if timeseries==True:\n",
    "\t# sunset_raw_d02 = sorted(glob.glob(parent_dir + '/*00/raw/d02'))\t\t\t# Sunset case since it ends with 00UTC for a 36hr run, meaning sim started at 12UTC\n",
    "\tsunrise_raw_d02 = sorted(glob.glob(parent_dir + '/*12/raw/d02'))\t\t# Sunrise case\n",
    "else:\n",
    "\tNCRF_raw_d02 = sorted(glob.glob(parent_dir + '/2015*/raw/d02'))\t\t\t\t\t# both Sunset and Sunrise "
   ]
  },
  {
   "cell_type": "code",
   "execution_count": 5,
   "metadata": {},
   "outputs": [],
   "source": [
    "def time_slice(ds):\n",
    "\tds = ds.isel(Time=slice(0,24))\n",
    "\treturn ds\n",
    "\n",
    "if timeseries==True:\n",
    "\t# Save the first 24-hours and concat with next simulation 24-hrs\n",
    "\tds_sunrise_d02 = xr.open_mfdataset(sunrise_raw_d02, concat_dim='Time', combine='nested', data_vars='all', coords='all', preprocess=time_slice)\n",
    "\t# ds_sunset_d02 = xr.open_mfdataset(sunset_raw_d02, concat_dim='Time', combine='nested', data_vars='all', coords='all', preprocess=time_slice)\n",
    "\t# Save file\n",
    "\tds_sunrise_d02.to_netcdf(path=parent_dir+'/d02', mode='w', format='NETCDF4', unlimited_dims='Time')\n",
    "\t# ds_sunset_d02.to_netcdf(path=parent_dir+'/d02_sunset', mode='w', format='NETCDF4', unlimited_dims='Time')\n",
    "else:\n",
    "\t# Save the entire 36-hours and concat over 'Lead' dimension\n",
    "\tds_NCRF_d02 = xr.open_mfdataset(NCRF_raw_d02, concat_dim='Lead', combine='nested', data_vars='all', coords='all', parallel=True)\n",
    "\t# Save file\n",
    "\tds_NCRF_d02.to_netcdf(path=parent_dir+'/d02_NCRF', mode='w', format='NETCDF4', unlimited_dims='Time')"
   ]
  }
 ],
 "metadata": {
  "kernelspec": {
   "display_name": "WRF_Xarray",
   "language": "python",
   "name": "python3"
  },
  "language_info": {
   "codemirror_mode": {
    "name": "ipython",
    "version": 3
   },
   "file_extension": ".py",
   "mimetype": "text/x-python",
   "name": "python",
   "nbconvert_exporter": "python",
   "pygments_lexer": "ipython3",
   "version": "3.11.10"
  }
 },
 "nbformat": 4,
 "nbformat_minor": 2
}
