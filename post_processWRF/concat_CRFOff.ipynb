{
 "cells": [
  {
   "cell_type": "code",
   "execution_count": null,
   "metadata": {},
   "outputs": [],
   "source": [
    "\"\"\" \n",
    "Author: Hrag Najarian\n",
    "Date made: September 9, 2024\n",
    "Purpose: Concat CRFOff wrfout files without overlap\n",
    "\"\"\""
   ]
  },
  {
   "cell_type": "code",
   "execution_count": null,
   "metadata": {},
   "outputs": [],
   "source": [
    "# Run this command on the command line to create a .py script instead of .ipynb\n",
    "\t# jupyter nbconvert concat_CRFOff.ipynb --to python"
   ]
  },
  {
   "cell_type": "code",
   "execution_count": 6,
   "metadata": {},
   "outputs": [],
   "source": [
    "import netCDF4 as nc\n",
    "import numpy as np\n",
    "import numpy.ma as ma\n",
    "import wrf\n",
    "import sys\n",
    "import glob\n",
    "import xarray as xr"
   ]
  },
  {
   "cell_type": "code",
   "execution_count": 20,
   "metadata": {},
   "outputs": [],
   "source": [
    "# Declare parent_dir where all the directories are located \n",
    "parent_dir = sys.argv[1]\n",
    "# parent_dir = '/ourdisk/hpc/radclouds/auto_archive_notyet/tape_2copies/hragnajarian/wrfout.files/new10day-2015-11-22-12--12-03-00/CRFoff'\n",
    "\n",
    "# List files\n",
    "sunset_raw_d02 = sorted(glob.glob(parent_dir + '/*00/raw/d02'))\t\t\t# Sunset case since it ends with 00UTC for a 36hr run, meaning sim started at 12UTC\n",
    "sunrise_raw_d02 = sorted(glob.glob(parent_dir + '/*12/raw/d02'))\t\t# Sunrise case\n",
    "\n"
   ]
  },
  {
   "cell_type": "code",
   "execution_count": 21,
   "metadata": {},
   "outputs": [],
   "source": [
    "def time_slice(ds):\n",
    "\tds = ds.isel(Time=slice(0,24))\n",
    "\treturn ds\n",
    "\n",
    "ds_sunrise_d02 = xr.open_mfdataset(sunrise_raw_d02, concat_dim='Time', combine='nested', data_vars='all', coords='all', preprocess=time_slice)\n",
    "ds_sunset_d02 = xr.open_mfdataset(sunset_raw_d02, concat_dim='Time', combine='nested', data_vars='all', coords='all', preprocess=time_slice)"
   ]
  },
  {
   "cell_type": "code",
   "execution_count": null,
   "metadata": {},
   "outputs": [],
   "source": [
    "ds_sunrise_d02.to_netcdf(path=parent_dir+'/d02_sunrise', mode='w', format='NETCDF4', unlimited_dims='Time')\n",
    "ds_sunset_d02.to_netcdf(path=parent_dir+'/d02_sunset', mode='w', format='NETCDF4', unlimited_dims='Time')"
   ]
  }
 ],
 "metadata": {
  "kernelspec": {
   "display_name": "WRF_Xarray",
   "language": "python",
   "name": "python3"
  },
  "language_info": {
   "codemirror_mode": {
    "name": "ipython",
    "version": 3
   },
   "file_extension": ".py",
   "mimetype": "text/x-python",
   "name": "python",
   "nbconvert_exporter": "python",
   "pygments_lexer": "ipython3",
   "version": "3.11.6"
  }
 },
 "nbformat": 4,
 "nbformat_minor": 2
}
