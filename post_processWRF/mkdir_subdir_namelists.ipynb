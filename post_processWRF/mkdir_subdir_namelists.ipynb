{
 "cells": [
  {
   "cell_type": "code",
   "execution_count": null,
   "metadata": {},
   "outputs": [],
   "source": [
    "# Run this command on the command line to create a .py script instead of .ipynb\n",
    "\t# jupyter nbconvert mkdir_subdir_namelists.ipynb --to python"
   ]
  },
  {
   "cell_type": "code",
   "execution_count": null,
   "metadata": {},
   "outputs": [],
   "source": [
    "# This code will create directories, subdirectories, and namelists dependening on your start time and end time."
   ]
  },
  {
   "cell_type": "code",
   "execution_count": 4,
   "metadata": {},
   "outputs": [],
   "source": [
    "# import sys\t# utilize sys.argv[1] to get the parent directory of where you want these directories to go\n",
    "import os\n",
    "import numpy as np\n",
    "# from datetime import datetime, timedelta\n",
    "import shutil\n",
    "\n",
    "def create_dir(parent_dir, start_time, end_time, model_length_hr, ensemble_2_ensemble_length_hr):\n",
    "\t# convert to times to datetime\n",
    "\tstart_date = np.datetime64(start_time)\n",
    "\tend_date = np.datetime64(end_time)\n",
    "\t# Create intervals of times and then convert to string\n",
    "\tmodel_start_times = np.datetime_as_string(np.arange(start_date, end_date + ensemble_2_ensemble_length_hr, ensemble_2_ensemble_length_hr))\n",
    "\tmodel_end_times = np.datetime_as_string(np.arange(start_date+model_length_hr, end_date + ensemble_2_ensemble_length_hr + model_length_hr, ensemble_2_ensemble_length_hr))\n",
    "\t# Create the directory_name matrix and then mkdir the names.\n",
    "\tdirectory_name = np.empty_like(model_end_times)\n",
    "\tfor i in range(len(model_start_times)): \n",
    "\t\tmodel_start_times[i] = model_start_times[i].replace('T','-')\n",
    "\t\tmodel_end_times[i] = model_end_times[i].replace('T','-')\n",
    "\t\tdirectory_name[i] = model_start_times[i] + str('--') + model_end_times[i]\n",
    "\t\tos.mkdir(parent_dir+directory_name[i])\n",
    "\n",
    "def create_subdir(parent_dir):\n",
    "\tfor i in sorted(os.listdir(parent_dir)):\n",
    "\t\tos.mkdir(parent_dir + i + '/raw')\n",
    "\t\tos.mkdir(parent_dir + i + '/L1')\n",
    "\t\tos.mkdir(parent_dir + i + '/L2')\n",
    "\t\tos.mkdir(parent_dir + i + '/L3')\n",
    "\n",
    "def create_namelists(parent_dir,control_namelist_path, model_length_hr):\n",
    "\t# Loop through simulation directories\n",
    "\tfor i in sorted(os.listdir(parent_dir)):\n",
    "\t\tdestination = parent_dir + i\n",
    "\t\t# Copy the control namelist to the simulation directory\n",
    "\t\tshutil.copy(control_namelist_path, destination)\n",
    "\t\t# Create a new namelist.input path for the simulation directory\n",
    "\t\tnew_namelist_path = destination + '/namelist.input'\n",
    "\t\t# Open the control namelist and copy it's content\n",
    "\t\twith open(control_namelist_path, 'r') as input_file:\n",
    "\t\t\t# Read the content of the input file\n",
    "\t\t\tcontent = input_file.read()\n",
    "\t\t# Edit the start times, end times, restart, and icloud variable within namelist.input\n",
    "\t\t# Replace the desired text (for example, replace 'old_text' with 'new_text')\n",
    "\t\t\t# This will be done by reading the time information from the directories that were created.\n",
    "\t\t\t# start_times:\n",
    "\t\tcontent = content.replace('start_year = 2015, 2015', 'start_year = ' + i[0:4] + ', ' + i[0:4])\n",
    "\t\tcontent = content.replace('start_month = 11, 11', 'start_month = ' + i[5:7] + ', ' + i[5:7])\n",
    "\t\tcontent = content.replace('start_day = 22, 22', 'start_day = ' + i[8:10] + ', ' + i[8:10])\n",
    "\t\tcontent = content.replace('start_hour = 12, 12', 'start_hour = ' + i[11:13] + ', ' + i[11:13])\n",
    "\t\t\t# end_times:\n",
    "\t\tcontent = content.replace('end_year = 2015, 2015', 'end_year = ' + i[15:19] + ', ' + i[15:19])\n",
    "\t\tcontent = content.replace('end_month = 12, 12', 'end_month = ' + i[20:22] + ', ' + i[20:22])\n",
    "\t\tcontent = content.replace('end_day = 03, 03', 'end_day = ' + i[23:25] + ', ' + i[23:25])\n",
    "\t\tcontent = content.replace('end_hour = 00, 00', 'end_hour = ' + i[26:28] + ', ' + i[26:28])\n",
    "\t\t\t# restart\n",
    "\t\tcontent = content.replace('restart = .false.', 'restart = .true.')\n",
    "\t\t\t# restart_interval\n",
    "\t\t\t\t# Make it greater than the model run length i.e., > model_length_hr*60\n",
    "\t\tcontent = content.replace('restart_interval = 360', 'restart_interval = ' + str(model_length_hr*60+1))\n",
    "\t\t\t# icloud\n",
    "\t\tcontent = content.replace('icloud = 1', 'icloud = 0')\n",
    "\t\t\n",
    "\t\t# Save the edited namelist.input into the simulation directory.\n",
    "\t\twith open(new_namelist_path, 'w') as output_file:\n",
    "\t\t\toutput_file.write(content)\n"
   ]
  },
  {
   "cell_type": "code",
   "execution_count": 5,
   "metadata": {},
   "outputs": [],
   "source": [
    "# The directory you want to fill with more directories\n",
    "parent_dir = '/ourdisk/hpc/radclouds/auto_archive_notyet/tape_2copies/hragnajarian/wrfout.files/new10day-2015-11-22-12--12-03-00/CRFoff/'\n",
    "# start_time/end_time: YYYY-MM-DD HH\n",
    "start_time = '2015-11-23 00'\n",
    "end_time = '2015-12-01 12'\n",
    "# How many hours does the model run for?\n",
    "model_length_hr = 36\n",
    "# How many hours until a new model is run?\n",
    "ensemble_2_ensemble_length_hr = 12\n",
    "\n",
    "create_dir(parent_dir, start_time, end_time, model_length_hr, ensemble_2_ensemble_length_hr)\n",
    "create_subdir(parent_dir)\n",
    "# Where is the control namelist you want to edit for your simulations\n",
    "control_namelist_path = '/ourdisk/hpc/radclouds/auto_archive_notyet/tape_2copies/hragnajarian/wrfout.files/new10day-2015-11-22-12--12-03-00/namelist.input'\n",
    "create_namelists(parent_dir, control_namelist_path, model_length_hr)"
   ]
  }
 ],
 "metadata": {
  "kernelspec": {
   "display_name": "WRF_Xarray",
   "language": "python",
   "name": "python3"
  },
  "language_info": {
   "codemirror_mode": {
    "name": "ipython",
    "version": 3
   },
   "file_extension": ".py",
   "mimetype": "text/x-python",
   "name": "python",
   "nbconvert_exporter": "python",
   "pygments_lexer": "ipython3",
   "version": "3.11.6"
  }
 },
 "nbformat": 4,
 "nbformat_minor": 2
}
